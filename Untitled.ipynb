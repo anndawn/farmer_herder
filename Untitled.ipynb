{
 "cells": [
  {
   "cell_type": "code",
   "execution_count": 2,
   "id": "3e74dd67",
   "metadata": {},
   "outputs": [
    {
     "data": {
      "text/plain": [
       "260104"
      ]
     },
     "execution_count": 2,
     "metadata": {},
     "output_type": "execute_result"
    }
   ],
   "source": [
    "\n",
    "import json\n",
    "\n",
    "js = open('Nigeria_border.geojson', 'r').read()\n",
    "gj = json.loads(js)\n",
    "\n",
    "output = { \"type\": \"FeatureCollection\", \"features\": [] }\n",
    "\n",
    "for feature in gj['features']:\n",
    "    if (feature['geometry'] is not None) and (feature['geometry']['type'] == 'MultiPolygon'):\n",
    "        for poly in feature['geometry']['coordinates']:\n",
    "            xfeature = { \"type\": \"Feature\", \"properties\": {}, \"geometry\": { \"type\": \"Polygon\" } }\n",
    "            xfeature['geometry']['coordinates'] = poly\n",
    "            output['features'].append(xfeature)\n",
    "\n",
    "open('polygons.geojson', 'w').write(json.dumps(output))"
   ]
  },
  {
   "cell_type": "code",
   "execution_count": null,
   "id": "7191b4f4",
   "metadata": {},
   "outputs": [],
   "source": []
  },
  {
   "cell_type": "code",
   "execution_count": null,
   "id": "a75d2e7d",
   "metadata": {},
   "outputs": [],
   "source": []
  }
 ],
 "metadata": {
  "kernelspec": {
   "display_name": "Python 3 (ipykernel)",
   "language": "python",
   "name": "python3"
  },
  "language_info": {
   "codemirror_mode": {
    "name": "ipython",
    "version": 3
   },
   "file_extension": ".py",
   "mimetype": "text/x-python",
   "name": "python",
   "nbconvert_exporter": "python",
   "pygments_lexer": "ipython3",
   "version": "3.9.7"
  }
 },
 "nbformat": 4,
 "nbformat_minor": 5
}
